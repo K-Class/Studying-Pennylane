{
 "cells": [
  {
   "cell_type": "markdown",
   "id": "ef04ea41",
   "metadata": {},
   "source": [
    "Quadratic Hamiltonian의 대표적인 예 중 하나는 transverse-field Ising model이며, 다음과 같이 정의된다.\n",
    "\n",
    "$$ \\hat H_{\\text{Ising}}(\\boldsymbol{\\theta}) = \\sum_{(i,j) \\in E} \\theta_{ij}^{(1)} Z_i Z_j + \\sum_{i} \\theta_i^{(2)} Z_i + \\sum_i X_i $$\n",
    "\n",
    "여기에서 $ \\theta^{(1)} $은 edge weight, $ \\theta^{(2)} $는 node weight에 대응되는 것을 알 수 있다."
   ]
  },
  {
   "cell_type": "markdown",
   "id": "6a25d765",
   "metadata": {},
   "source": [
    "이제 quadratic Hamiltonian을 graph-theoretic하게 생각하는 방법을 알아보자. Hamiltonian $H$에 대한 time-evolution operator가 다음과 같이 정의된다.\n",
    "\n",
    "$$ U = e^{-itH} $$\n",
    "\n",
    "따라서, 위의 $ \\hat H_{\\text{Ising}} $을 대입하면 graph에도 똑같이 적용할 수 있는 unitary operator를 다음과 같이 쓸 수 있음을 안다.\n",
    "\n",
    "$$ U_{\\text{Ising}} = "
   ]
  },
  {
   "cell_type": "code",
   "execution_count": null,
   "id": "222a78a4",
   "metadata": {},
   "outputs": [],
   "source": []
  },
  {
   "cell_type": "code",
   "execution_count": null,
   "id": "b3ee64eb",
   "metadata": {},
   "outputs": [],
   "source": []
  }
 ],
 "metadata": {
  "kernelspec": {
   "display_name": "Python 3 (ipykernel)",
   "language": "python",
   "name": "python3"
  },
  "language_info": {
   "codemirror_mode": {
    "name": "ipython",
    "version": 3
   },
   "file_extension": ".py",
   "mimetype": "text/x-python",
   "name": "python",
   "nbconvert_exporter": "python",
   "pygments_lexer": "ipython3",
   "version": "3.9.13"
  }
 },
 "nbformat": 4,
 "nbformat_minor": 5
}
