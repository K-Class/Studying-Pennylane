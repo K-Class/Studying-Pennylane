{
 "cells": [
  {
   "cell_type": "code",
   "execution_count": 1,
   "id": "aa99fac4",
   "metadata": {},
   "outputs": [
    {
     "name": "stdout",
     "output_type": "stream",
     "text": [
      "Collecting pennylane-sf\n",
      "  Downloading PennyLane_SF-0.20.1-py3-none-any.whl (29 kB)\n",
      "Requirement already satisfied: pennylane>=0.19 in c:\\users\\sidej\\anaconda3\\lib\\site-packages (from pennylane-sf) (0.28.0)\n",
      "Collecting strawberryfields>=0.22\n",
      "  Downloading StrawberryFields-0.23.0-py3-none-any.whl (4.9 MB)\n",
      "     ---------------------------------------- 4.9/4.9 MB 11.2 MB/s eta 0:00:00\n",
      "Requirement already satisfied: numpy<1.24 in c:\\users\\sidej\\anaconda3\\lib\\site-packages (from pennylane>=0.19->pennylane-sf) (1.21.5)\n",
      "Requirement already satisfied: networkx in c:\\users\\sidej\\anaconda3\\lib\\site-packages (from pennylane>=0.19->pennylane-sf) (2.8.4)\n",
      "Requirement already satisfied: autoray>=0.3.1 in c:\\users\\sidej\\anaconda3\\lib\\site-packages (from pennylane>=0.19->pennylane-sf) (0.5.3)\n",
      "Requirement already satisfied: semantic-version>=2.7 in c:\\users\\sidej\\anaconda3\\lib\\site-packages (from pennylane>=0.19->pennylane-sf) (2.10.0)\n",
      "Requirement already satisfied: retworkx in c:\\users\\sidej\\anaconda3\\lib\\site-packages (from pennylane>=0.19->pennylane-sf) (0.12.1)\n",
      "Requirement already satisfied: appdirs in c:\\users\\sidej\\anaconda3\\lib\\site-packages (from pennylane>=0.19->pennylane-sf) (1.4.4)\n",
      "Requirement already satisfied: pennylane-lightning>=0.28 in c:\\users\\sidej\\anaconda3\\lib\\site-packages (from pennylane>=0.19->pennylane-sf) (0.28.1)\n",
      "Requirement already satisfied: requests in c:\\users\\sidej\\anaconda3\\lib\\site-packages (from pennylane>=0.19->pennylane-sf) (2.28.1)\n",
      "Requirement already satisfied: cachetools in c:\\users\\sidej\\anaconda3\\lib\\site-packages (from pennylane>=0.19->pennylane-sf) (5.3.0)\n",
      "Requirement already satisfied: toml in c:\\users\\sidej\\anaconda3\\lib\\site-packages (from pennylane>=0.19->pennylane-sf) (0.10.2)\n",
      "Requirement already satisfied: scipy in c:\\users\\sidej\\anaconda3\\lib\\site-packages (from pennylane>=0.19->pennylane-sf) (1.9.1)\n",
      "Requirement already satisfied: autograd in c:\\users\\sidej\\anaconda3\\lib\\site-packages (from pennylane>=0.19->pennylane-sf) (1.5)\n",
      "Requirement already satisfied: sympy>=1.5 in c:\\users\\sidej\\anaconda3\\lib\\site-packages (from strawberryfields>=0.22->pennylane-sf) (1.10.1)\n",
      "Requirement already satisfied: urllib3>=1.25.3 in c:\\users\\sidej\\anaconda3\\lib\\site-packages (from strawberryfields>=0.22->pennylane-sf) (1.26.11)\n",
      "Requirement already satisfied: numba in c:\\users\\sidej\\anaconda3\\lib\\site-packages (from strawberryfields>=0.22->pennylane-sf) (0.55.1)\n",
      "Collecting quantum-xir>=0.1.1\n",
      "  Downloading quantum_xir-0.2.2-py3-none-any.whl (27 kB)\n",
      "Requirement already satisfied: python-dateutil>=2.8.0 in c:\\users\\sidej\\anaconda3\\lib\\site-packages (from strawberryfields>=0.22->pennylane-sf) (2.8.2)\n",
      "Collecting xanadu-cloud-client>=0.2.1\n",
      "  Downloading xanadu_cloud_client-0.3.0-py3-none-any.whl (25 kB)\n",
      "Collecting quantum-blackbird>=0.3.0\n",
      "  Downloading quantum_blackbird-0.5.0-py3-none-any.whl (48 kB)\n",
      "     ---------------------------------------- 48.0/48.0 kB ? eta 0:00:00\n",
      "Collecting thewalrus>=0.18.0\n",
      "  Downloading thewalrus-0.19.0-py3-none-any.whl (83 kB)\n",
      "     ---------------------------------------- 83.8/83.8 kB 4.9 MB/s eta 0:00:00\n",
      "Requirement already satisfied: ninja in c:\\users\\sidej\\anaconda3\\lib\\site-packages (from pennylane-lightning>=0.28->pennylane>=0.19->pennylane-sf) (1.11.1)\n",
      "Requirement already satisfied: six>=1.5 in c:\\users\\sidej\\anaconda3\\lib\\site-packages (from python-dateutil>=2.8.0->strawberryfields>=0.22->pennylane-sf) (1.16.0)\n",
      "Collecting antlr4-python3-runtime==4.9.2\n",
      "  Downloading antlr4-python3-runtime-4.9.2.tar.gz (117 kB)\n",
      "     ---------------------------------------- 117.2/117.2 kB ? eta 0:00:00\n",
      "  Preparing metadata (setup.py): started\n",
      "  Preparing metadata (setup.py): finished with status 'done'\n",
      "Collecting lark-parser>=0.11.0\n",
      "  Downloading lark_parser-0.12.0-py2.py3-none-any.whl (103 kB)\n",
      "     ---------------------------------------- 103.5/103.5 kB ? eta 0:00:00\n",
      "Requirement already satisfied: certifi>=2017.4.17 in c:\\users\\sidej\\anaconda3\\lib\\site-packages (from requests->pennylane>=0.19->pennylane-sf) (2022.9.14)\n",
      "Requirement already satisfied: charset-normalizer<3,>=2 in c:\\users\\sidej\\anaconda3\\lib\\site-packages (from requests->pennylane>=0.19->pennylane-sf) (2.0.4)\n",
      "Requirement already satisfied: idna<4,>=2.5 in c:\\users\\sidej\\anaconda3\\lib\\site-packages (from requests->pennylane>=0.19->pennylane-sf) (3.3)\n",
      "Requirement already satisfied: mpmath>=0.19 in c:\\users\\sidej\\anaconda3\\lib\\site-packages (from sympy>=1.5->strawberryfields>=0.22->pennylane-sf) (1.2.1)\n",
      "Requirement already satisfied: dask[delayed] in c:\\users\\sidej\\anaconda3\\lib\\site-packages (from thewalrus>=0.18.0->strawberryfields>=0.22->pennylane-sf) (2022.7.0)\n",
      "Requirement already satisfied: setuptools in c:\\users\\sidej\\anaconda3\\lib\\site-packages (from numba->strawberryfields>=0.22->pennylane-sf) (63.4.1)\n",
      "Requirement already satisfied: llvmlite<0.39,>=0.38.0rc1 in c:\\users\\sidej\\anaconda3\\lib\\site-packages (from numba->strawberryfields>=0.22->pennylane-sf) (0.38.0)\n",
      "Collecting pydantic[dotenv]\n",
      "  Downloading pydantic-1.10.4-cp39-cp39-win_amd64.whl (2.1 MB)\n",
      "     ---------------------------------------- 2.1/2.1 MB 10.5 MB/s eta 0:00:00\n",
      "Collecting fire\n",
      "  Downloading fire-0.5.0.tar.gz (88 kB)\n",
      "     ---------------------------------------- 88.3/88.3 kB ? eta 0:00:00\n",
      "  Preparing metadata (setup.py): started\n",
      "  Preparing metadata (setup.py): finished with status 'done'\n",
      "Requirement already satisfied: future>=0.15.2 in c:\\users\\sidej\\anaconda3\\lib\\site-packages (from autograd->pennylane>=0.19->pennylane-sf) (0.18.2)\n",
      "Requirement already satisfied: rustworkx==0.12.1 in c:\\users\\sidej\\anaconda3\\lib\\site-packages (from retworkx->pennylane>=0.19->pennylane-sf) (0.12.1)\n",
      "Requirement already satisfied: cloudpickle>=1.1.1 in c:\\users\\sidej\\anaconda3\\lib\\site-packages (from dask[delayed]->thewalrus>=0.18.0->strawberryfields>=0.22->pennylane-sf) (2.0.0)\n",
      "Requirement already satisfied: packaging>=20.0 in c:\\users\\sidej\\anaconda3\\lib\\site-packages (from dask[delayed]->thewalrus>=0.18.0->strawberryfields>=0.22->pennylane-sf) (21.3)\n",
      "Requirement already satisfied: toolz>=0.8.2 in c:\\users\\sidej\\anaconda3\\lib\\site-packages (from dask[delayed]->thewalrus>=0.18.0->strawberryfields>=0.22->pennylane-sf) (0.11.2)\n",
      "Requirement already satisfied: partd>=0.3.10 in c:\\users\\sidej\\anaconda3\\lib\\site-packages (from dask[delayed]->thewalrus>=0.18.0->strawberryfields>=0.22->pennylane-sf) (1.2.0)\n",
      "Requirement already satisfied: fsspec>=0.6.0 in c:\\users\\sidej\\anaconda3\\lib\\site-packages (from dask[delayed]->thewalrus>=0.18.0->strawberryfields>=0.22->pennylane-sf) (2022.7.1)\n",
      "Requirement already satisfied: pyyaml>=5.3.1 in c:\\users\\sidej\\anaconda3\\lib\\site-packages (from dask[delayed]->thewalrus>=0.18.0->strawberryfields>=0.22->pennylane-sf) (6.0)\n",
      "Collecting termcolor\n",
      "  Downloading termcolor-2.2.0-py3-none-any.whl (6.6 kB)\n",
      "Requirement already satisfied: typing-extensions>=4.2.0 in c:\\users\\sidej\\anaconda3\\lib\\site-packages (from pydantic[dotenv]->xanadu-cloud-client>=0.2.1->strawberryfields>=0.22->pennylane-sf) (4.3.0)\n",
      "Collecting python-dotenv>=0.10.4\n",
      "  Downloading python_dotenv-0.21.1-py3-none-any.whl (19 kB)\n",
      "Requirement already satisfied: pyparsing!=3.0.5,>=2.0.2 in c:\\users\\sidej\\anaconda3\\lib\\site-packages (from packaging>=20.0->dask[delayed]->thewalrus>=0.18.0->strawberryfields>=0.22->pennylane-sf) (3.0.9)\n",
      "Requirement already satisfied: locket in c:\\users\\sidej\\anaconda3\\lib\\site-packages (from partd>=0.3.10->dask[delayed]->thewalrus>=0.18.0->strawberryfields>=0.22->pennylane-sf) (1.0.0)\n",
      "Building wheels for collected packages: antlr4-python3-runtime, fire\n",
      "  Building wheel for antlr4-python3-runtime (setup.py): started\n",
      "  Building wheel for antlr4-python3-runtime (setup.py): finished with status 'done'\n",
      "  Created wheel for antlr4-python3-runtime: filename=antlr4_python3_runtime-4.9.2-py3-none-any.whl size=144560 sha256=669d64858dbf7c356854170e6d68c8791b2db64d408433934a30415c3793767d\n",
      "  Stored in directory: c:\\users\\sidej\\appdata\\local\\pip\\cache\\wheels\\0c\\dc\\1c\\57974cae05c0a98c8d8590c471bdd8e953fcf18b14fa0890b7\n",
      "  Building wheel for fire (setup.py): started\n",
      "  Building wheel for fire (setup.py): finished with status 'done'\n",
      "  Created wheel for fire: filename=fire-0.5.0-py2.py3-none-any.whl size=116933 sha256=a34d7848e50e23e871a35105d57749ce1b7b115cb6c3e2a497f224ec44dd9553\n",
      "  Stored in directory: c:\\users\\sidej\\appdata\\local\\pip\\cache\\wheels\\f7\\f1\\89\\b9ea2bf8f80ec027a88fef1d354b3816b4d3d29530988972f6\n",
      "Successfully built antlr4-python3-runtime fire\n",
      "Installing collected packages: lark-parser, antlr4-python3-runtime, termcolor, quantum-xir, python-dotenv, pydantic, quantum-blackbird, fire, xanadu-cloud-client, thewalrus, strawberryfields, pennylane-sf\n",
      "Successfully installed antlr4-python3-runtime-4.9.2 fire-0.5.0 lark-parser-0.12.0 pennylane-sf-0.20.1 pydantic-1.10.4 python-dotenv-0.21.1 quantum-blackbird-0.5.0 quantum-xir-0.2.2 strawberryfields-0.23.0 termcolor-2.2.0 thewalrus-0.19.0 xanadu-cloud-client-0.3.0\n",
      "Note: you may need to restart the kernel to use updated packages.\n"
     ]
    }
   ],
   "source": [
    "pip install pennylane-sf"
   ]
  },
  {
   "cell_type": "markdown",
   "id": "4bef2c2a",
   "metadata": {},
   "source": [
    "# 3. Plugins and hybrid computation"
   ]
  },
  {
   "cell_type": "code",
   "execution_count": 1,
   "id": "778ffde1",
   "metadata": {},
   "outputs": [],
   "source": [
    "import pennylane as qml\n",
    "from pennylane import numpy as np"
   ]
  },
  {
   "cell_type": "code",
   "execution_count": 2,
   "id": "462a6962",
   "metadata": {},
   "outputs": [],
   "source": [
    "dev_fock = qml.device(\"strawberryfields.fock\", wires = 2, cutoff_dim = 2)"
   ]
  },
  {
   "cell_type": "code",
   "execution_count": 5,
   "id": "371c2fa1",
   "metadata": {},
   "outputs": [],
   "source": [
    "@qml.qnode(dev_fock, diff_method = \"parameter-shift\")\n",
    "def photon_redirection(params):\n",
    "    qml.FockState(1, wires = 0)\n",
    "    qml.Beamsplitter(params[0], params[1], wires = [0, 1])\n",
    "    return qml.expval(qml.NumberOperator(1))"
   ]
  },
  {
   "cell_type": "code",
   "execution_count": 6,
   "id": "f20ce619",
   "metadata": {},
   "outputs": [
    {
     "name": "stdout",
     "output_type": "stream",
     "text": [
      "-9.999666671111081e-05\n"
     ]
    }
   ],
   "source": [
    "def cost(params):\n",
    "    return -photon_redirection(params)\n",
    "\n",
    "init_params = np.array([0.01, 0.01], requires_grad = True)\n",
    "print(cost(init_params))"
   ]
  },
  {
   "cell_type": "code",
   "execution_count": 8,
   "id": "c44d2412",
   "metadata": {
    "scrolled": true
   },
   "outputs": [
    {
     "name": "stdout",
     "output_type": "stream",
     "text": [
      "Cost after step     5: -0.0349558\n",
      "Cost after step    10: -0.9969017\n",
      "Cost after step    15: -1.0000000\n",
      "Cost after step    20: -1.0000000\n",
      "Cost after step    25: -1.0000000\n",
      "Cost after step    30: -1.0000000\n",
      "Cost after step    35: -1.0000000\n",
      "Cost after step    40: -1.0000000\n",
      "Cost after step    45: -1.0000000\n",
      "Cost after step    50: -1.0000000\n",
      "Cost after step    55: -1.0000000\n",
      "Cost after step    60: -1.0000000\n",
      "Cost after step    65: -1.0000000\n",
      "Cost after step    70: -1.0000000\n",
      "Cost after step    75: -1.0000000\n",
      "Cost after step    80: -1.0000000\n",
      "Cost after step    85: -1.0000000\n",
      "Cost after step    90: -1.0000000\n",
      "Cost after step    95: -1.0000000\n",
      "Cost after step   100: -1.0000000\n",
      "Optimized rotation angles: [1.57079633 0.01      ]\n"
     ]
    }
   ],
   "source": [
    "opt = qml.GradientDescentOptimizer(stepsize = 0.4)\n",
    "steps = 100\n",
    "params = init_params\n",
    "\n",
    "for i in range(steps):\n",
    "    params = opt.step(cost, params)\n",
    "    \n",
    "    if (i + 1) % 5 == 0:\n",
    "        print(\"Cost after step {:5d}: {: .7f}\".format(i + 1, cost(params)))\n",
    "        \n",
    "print(\"Optimized rotation angles: {}\".format(params))"
   ]
  },
  {
   "cell_type": "code",
   "execution_count": 10,
   "id": "aa643efd",
   "metadata": {},
   "outputs": [],
   "source": [
    "dev_qubit = qml.device(\"default.qubit\", wires = 1)\n",
    "dev_fock = qml.device(\"strawberryfields.fock\", wires = 2, cutoff_dim = 10)\n",
    "\n",
    "@qml.qnode(dev_qubit)\n",
    "def qubit_rotation(phi1, phi2):\n",
    "    qml.RX(phi1, wires = 0)\n",
    "    qml.RY(phi2, wires = 0)\n",
    "    return qml.expval(qml.PauliZ(0))\n",
    "\n",
    "@qml.qnode(dev_fock, diff_method = \"parameter-shift\")\n",
    "def photon_redirection(params):\n",
    "    qml.FockState(1, wires = 0)\n",
    "    qml.Beamsplitter(params[0], params[1], wires = [0, 1])\n",
    "    return qml.expval(qml.NumberOperator(1))\n",
    "\n",
    "def squared_difference(x, y):\n",
    "    return np.abs(x - y)**2"
   ]
  },
  {
   "cell_type": "code",
   "execution_count": 11,
   "id": "17d52025",
   "metadata": {
    "scrolled": true
   },
   "outputs": [
    {
     "name": "stdout",
     "output_type": "stream",
     "text": [
      "Cost after step     5:  0.2154539\n",
      "Cost after step    10:  0.0000982\n",
      "Cost after step    15:  0.0000011\n",
      "Cost after step    20:  0.0000000\n",
      "Cost after step    25:  0.0000000\n",
      "Cost after step    30:  0.0000000\n",
      "Cost after step    35:  0.0000000\n",
      "Cost after step    40:  0.0000000\n",
      "Cost after step    45:  0.0000000\n",
      "Cost after step    50:  0.0000000\n",
      "Cost after step    55:  0.0000000\n",
      "Cost after step    60:  0.0000000\n",
      "Cost after step    65:  0.0000000\n",
      "Cost after step    70:  0.0000000\n",
      "Cost after step    75:  0.0000000\n",
      "Cost after step    80:  0.0000000\n",
      "Cost after step    85:  0.0000000\n",
      "Cost after step    90:  0.0000000\n",
      "Cost after step    95:  0.0000000\n",
      "Cost after step   100:  0.0000000\n",
      "Optimized rotation angles: [1.20671364 0.01      ]\n"
     ]
    }
   ],
   "source": [
    "def cost(params, phi1 = 0.5, phi2 = 0.1):\n",
    "    qubit_result = qubit_rotation(phi1, phi2)\n",
    "    photon_result = photon_redirection(params)\n",
    "    return squared_difference(qubit_result, photon_result)\n",
    "\n",
    "opt = qml.GradientDescentOptimizer(stepsize = 0.4)\n",
    "steps = 100\n",
    "params = np.array([0.01, 0.01], requires_grad = True)\n",
    "\n",
    "for i in range(steps):\n",
    "    params = opt.step(cost, params)\n",
    "    \n",
    "    if (i + 1) % 5 == 0:\n",
    "        print(\"Cost after step {:5d}: {: .7f}\".format(i + 1, cost(params)))\n",
    "        \n",
    "print(\"Optimized rotation angles: {}\".format(params))"
   ]
  },
  {
   "cell_type": "code",
   "execution_count": 13,
   "id": "85aab43f",
   "metadata": {},
   "outputs": [
    {
     "name": "stdout",
     "output_type": "stream",
     "text": [
      "0.8731983021146449 0.8731983044562817\n"
     ]
    }
   ],
   "source": [
    "result = [1.20671364, 0.01]\n",
    "print(photon_redirection(result), qubit_rotation(0.5, 0.1))"
   ]
  }
 ],
 "metadata": {
  "kernelspec": {
   "display_name": "Python 3 (ipykernel)",
   "language": "python",
   "name": "python3"
  },
  "language_info": {
   "codemirror_mode": {
    "name": "ipython",
    "version": 3
   },
   "file_extension": ".py",
   "mimetype": "text/x-python",
   "name": "python",
   "nbconvert_exporter": "python",
   "pygments_lexer": "ipython3",
   "version": "3.9.13"
  }
 },
 "nbformat": 4,
 "nbformat_minor": 5
}
