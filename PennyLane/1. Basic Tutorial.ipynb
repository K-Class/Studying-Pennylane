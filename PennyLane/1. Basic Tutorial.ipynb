{
 "cells": [
  {
   "cell_type": "markdown",
   "id": "2088eea6",
   "metadata": {},
   "source": [
    "# 1. Basic Tutorial: Qubit Rotation"
   ]
  },
  {
   "cell_type": "markdown",
   "id": "54287a18",
   "metadata": {},
   "source": [
    "두 개의 state $ |0 \\rangle $과 $|1 \\rangle $을 $x$축 기준으로 $\\phi_1$만큼, $y$축 기준으로 $\\phi_2$만큼 rotation한 뒤 해당 상태의 $\\sigma_z$ operator의 평균값을 구한 결과를 코딩하여 보자."
   ]
  },
  {
   "cell_type": "code",
   "execution_count": 1,
   "id": "9a7c836e",
   "metadata": {},
   "outputs": [
    {
     "name": "stdout",
     "output_type": "stream",
     "text": [
      "Requirement already satisfied: pennylane in c:\\users\\sidej\\anaconda3\\lib\\site-packages (0.28.0)\n",
      "Requirement already satisfied: cachetools in c:\\users\\sidej\\anaconda3\\lib\\site-packages (from pennylane) (5.3.0)\n",
      "Requirement already satisfied: pennylane-lightning>=0.28 in c:\\users\\sidej\\anaconda3\\lib\\site-packages (from pennylane) (0.28.1)\n",
      "Requirement already satisfied: requests in c:\\users\\sidej\\anaconda3\\lib\\site-packages (from pennylane) (2.28.1)\n",
      "Requirement already satisfied: autograd in c:\\users\\sidej\\anaconda3\\lib\\site-packages (from pennylane) (1.5)\n",
      "Requirement already satisfied: retworkx in c:\\users\\sidej\\anaconda3\\lib\\site-packages (from pennylane) (0.12.1)\n",
      "Requirement already satisfied: networkx in c:\\users\\sidej\\anaconda3\\lib\\site-packages (from pennylane) (2.8.4)\n",
      "Requirement already satisfied: toml in c:\\users\\sidej\\anaconda3\\lib\\site-packages (from pennylane) (0.10.2)\n",
      "Requirement already satisfied: scipy in c:\\users\\sidej\\anaconda3\\lib\\site-packages (from pennylane) (1.9.1)\n",
      "Requirement already satisfied: appdirs in c:\\users\\sidej\\anaconda3\\lib\\site-packages (from pennylane) (1.4.4)\n",
      "Requirement already satisfied: semantic-version>=2.7 in c:\\users\\sidej\\anaconda3\\lib\\site-packages (from pennylane) (2.10.0)\n",
      "Requirement already satisfied: autoray>=0.3.1 in c:\\users\\sidej\\anaconda3\\lib\\site-packages (from pennylane) (0.5.3)\n",
      "Requirement already satisfied: numpy<1.24 in c:\\users\\sidej\\anaconda3\\lib\\site-packages (from pennylane) (1.21.5)\n",
      "Requirement already satisfied: ninja in c:\\users\\sidej\\anaconda3\\lib\\site-packages (from pennylane-lightning>=0.28->pennylane) (1.11.1)\n",
      "Requirement already satisfied: future>=0.15.2 in c:\\users\\sidej\\anaconda3\\lib\\site-packages (from autograd->pennylane) (0.18.2)\n",
      "Requirement already satisfied: charset-normalizer<3,>=2 in c:\\users\\sidej\\anaconda3\\lib\\site-packages (from requests->pennylane) (2.0.4)\n",
      "Requirement already satisfied: certifi>=2017.4.17 in c:\\users\\sidej\\anaconda3\\lib\\site-packages (from requests->pennylane) (2022.9.14)\n",
      "Requirement already satisfied: idna<4,>=2.5 in c:\\users\\sidej\\anaconda3\\lib\\site-packages (from requests->pennylane) (3.3)\n",
      "Requirement already satisfied: urllib3<1.27,>=1.21.1 in c:\\users\\sidej\\anaconda3\\lib\\site-packages (from requests->pennylane) (1.26.11)\n",
      "Requirement already satisfied: rustworkx==0.12.1 in c:\\users\\sidej\\anaconda3\\lib\\site-packages (from retworkx->pennylane) (0.12.1)\n",
      "Note: you may need to restart the kernel to use updated packages.\n"
     ]
    }
   ],
   "source": [
    "pip install pennylane --upgrade"
   ]
  },
  {
   "cell_type": "code",
   "execution_count": 2,
   "id": "fb808040",
   "metadata": {},
   "outputs": [],
   "source": [
    "import pennylane as qml\n",
    "from pennylane import numpy as np"
   ]
  },
  {
   "cell_type": "code",
   "execution_count": 15,
   "id": "dcfcefe1",
   "metadata": {},
   "outputs": [
    {
     "name": "stdout",
     "output_type": "stream",
     "text": [
      "0.8515405859048367\n"
     ]
    }
   ],
   "source": [
    "dev1 = qml.device(\"default.qubit\", wires = 1)\n",
    "\"\"\" device(name, wires): loads device from pennylane library.\n",
    "    name: the name of the device,\n",
    "    wires: the # of subsystems to intialize the device with. \"\"\"\n",
    "\n",
    "@qml.qnode(dev1)\n",
    "def circuit(params):\n",
    "    qml.RX(params[0], wires = 0)\n",
    "    qml.RY(params[1], wires = 0)\n",
    "    return qml.expval(qml.PauliZ(0))\n",
    "print(circuit([0.54, 0.12]))"
   ]
  },
  {
   "cell_type": "code",
   "execution_count": 16,
   "id": "8ab8a000",
   "metadata": {},
   "outputs": [
    {
     "name": "stdout",
     "output_type": "stream",
     "text": [
      "[array(-0.51043865), array(-0.1026782)]\n"
     ]
    }
   ],
   "source": [
    "dcircuit = qml.grad(circuit, argnum = 0)\n",
    "print(dcircuit([0.54, 0.12]))"
   ]
  },
  {
   "cell_type": "code",
   "execution_count": 17,
   "id": "fe63e988",
   "metadata": {},
   "outputs": [
    {
     "name": "stdout",
     "output_type": "stream",
     "text": [
      "0.8515405859048367\n",
      "(array(-0.51043865), array(-0.1026782))\n"
     ]
    }
   ],
   "source": [
    "@qml.qnode(dev1)\n",
    "def circuit2(phi1, phi2):\n",
    "    qml.RX(phi1, wires = 0)\n",
    "    qml.RY(phi2, wires = 0)\n",
    "    return qml.expval(qml.PauliZ(0))\n",
    "print(circuit([0.54, 0.12]))\n",
    "\n",
    "dcircuit = qml.grad(circuit2, argnum = [0, 1])\n",
    "print(dcircuit(0.54, 0.12))"
   ]
  },
  {
   "cell_type": "markdown",
   "id": "ee23af94",
   "metadata": {},
   "source": [
    "이제 initial state $|0 \\rangle$을 줬을 때 final state를 $|1 \\rangle$로 만드는 $\\phi_1, \\phi_2$를 optimization으로 구해보자."
   ]
  },
  {
   "cell_type": "code",
   "execution_count": 18,
   "id": "1bd51f4c",
   "metadata": {},
   "outputs": [
    {
     "name": "stdout",
     "output_type": "stream",
     "text": [
      "0.9998675058299389\n",
      "Cost after step     5:  0.9961778\n",
      "Cost after step    10:  0.8974944\n",
      "Cost after step    15:  0.1440490\n",
      "Cost after step    20: -0.1536720\n",
      "Cost after step    25: -0.9152496\n",
      "Cost after step    30: -0.9994046\n",
      "Cost after step    35: -0.9999964\n",
      "Cost after step    40: -1.0000000\n",
      "Cost after step    45: -1.0000000\n",
      "Cost after step    50: -1.0000000\n",
      "Cost after step    55: -1.0000000\n",
      "Cost after step    60: -1.0000000\n",
      "Cost after step    65: -1.0000000\n",
      "Cost after step    70: -1.0000000\n",
      "Cost after step    75: -1.0000000\n",
      "Cost after step    80: -1.0000000\n",
      "Cost after step    85: -1.0000000\n",
      "Cost after step    90: -1.0000000\n",
      "Cost after step    95: -1.0000000\n",
      "Cost after step   100: -1.0000000\n",
      "Optimized rotation angles: [7.15266381e-18 3.14159265e+00]\n"
     ]
    }
   ],
   "source": [
    "def cost(x):\n",
    "    return circuit(x)\n",
    "\n",
    "init_params = np.array([0.011, 0.012], requires_grad = True)\n",
    "print(cost(init_params))\n",
    "\n",
    "#initialize the optimizer.\n",
    "opt = qml.GradientDescentOptimizer(stepsize = 0.4)\n",
    "\n",
    "#set the # of steps\n",
    "steps = 100\n",
    "#set the initial parameter values\n",
    "params = init_params\n",
    "\n",
    "for i in range(steps):\n",
    "    params = opt.step(cost, params)\n",
    "    \n",
    "    if (i + 1) % 5 == 0:\n",
    "        print(\"Cost after step {:5d}: {: .7f}\".format(i + 1, cost(params)))\n",
    "    \n",
    "print(\"Optimized rotation angles: {}\".format(params))"
   ]
  }
 ],
 "metadata": {
  "kernelspec": {
   "display_name": "Python 3 (ipykernel)",
   "language": "python",
   "name": "python3"
  },
  "language_info": {
   "codemirror_mode": {
    "name": "ipython",
    "version": 3
   },
   "file_extension": ".py",
   "mimetype": "text/x-python",
   "name": "python",
   "nbconvert_exporter": "python",
   "pygments_lexer": "ipython3",
   "version": "3.9.13"
  }
 },
 "nbformat": 4,
 "nbformat_minor": 5
}
