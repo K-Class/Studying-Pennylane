{
 "cells": [
  {
   "cell_type": "markdown",
   "id": "b38ec6fc",
   "metadata": {},
   "source": [
    "# 5. Adjoint Differentiation"
   ]
  },
  {
   "cell_type": "markdown",
   "id": "1a3e91e4",
   "metadata": {},
   "source": [
    "## Introduction"
   ]
  },
  {
   "cell_type": "code",
   "execution_count": 6,
   "id": "91273c34",
   "metadata": {},
   "outputs": [],
   "source": [
    "import pennylane as qml\n",
    "from pennylane import numpy as np"
   ]
  },
  {
   "cell_type": "code",
   "execution_count": 7,
   "id": "b6efad46",
   "metadata": {},
   "outputs": [],
   "source": [
    "dev = qml.device('default.qubit', wires = 2)\n",
    "\n",
    "x = np.array([0.1, 0.2, 0.3])\n",
    "\n",
    "@qml.qnode(dev, diff_method = \"adjoint\")\n",
    "def circuit(a):\n",
    "    qml.RX(a[0], wires = 0)\n",
    "    qml.CNOT(wires = (0, 1))\n",
    "    qml.RY(a[1], wires = 1)\n",
    "    qml.RZ(a[2], wires = 1)\n",
    "    return qml.expval(qml.PauliX(wires = 1))"
   ]
  },
  {
   "cell_type": "code",
   "execution_count": 9,
   "id": "61f5a988",
   "metadata": {},
   "outputs": [
    {
     "name": "stdout",
     "output_type": "stream",
     "text": [
      "[[9.82601808e-01-0.14850574j 9.85890302e-02+0.01490027j]\n",
      " [7.45635195e-04+0.00493356j 7.43148086e-03-0.04917107j]]\n"
     ]
    }
   ],
   "source": [
    "n_gates = 4\n",
    "n_params = 3\n",
    "\n",
    "ops = [\n",
    "    qml.RX(x[0], wires = 0),\n",
    "    qml.CNOT(wires = (0, 1)),\n",
    "    qml.RY(x[1], wires = 1),\n",
    "    qml.RZ(x[2], wires = 1)\n",
    "]\n",
    "M = qml.PauliX(wires = 1)\n",
    "\n",
    "state = dev._create_basis_state(0)\n",
    "\n",
    "for op in ops:\n",
    "    state = dev._apply_operation(state, op)\n",
    "    \n",
    "print(state)"
   ]
  }
 ],
 "metadata": {
  "kernelspec": {
   "display_name": "Python 3 (ipykernel)",
   "language": "python",
   "name": "python3"
  },
  "language_info": {
   "codemirror_mode": {
    "name": "ipython",
    "version": 3
   },
   "file_extension": ".py",
   "mimetype": "text/x-python",
   "name": "python",
   "nbconvert_exporter": "python",
   "pygments_lexer": "ipython3",
   "version": "3.9.13"
  }
 },
 "nbformat": 4,
 "nbformat_minor": 5
}
