{
 "cells": [
  {
   "cell_type": "code",
   "execution_count": 1,
   "id": "ab854399",
   "metadata": {},
   "outputs": [],
   "source": [
    "import json\n",
    "import pennylane as qml\n",
    "import pennylane.numpy as np"
   ]
  },
  {
   "cell_type": "code",
   "execution_count": 2,
   "id": "9d08f817",
   "metadata": {},
   "outputs": [],
   "source": [
    "dev = qml.device(\"default.qubit\", wires=[\"hour\", \"minute\"])"
   ]
  },
  {
   "cell_type": "code",
   "execution_count": 6,
   "id": "03128f7f",
   "metadata": {},
   "outputs": [
    {
     "data": {
      "text/plain": [
       "tensor([3.20031262e-33, 8.53553391e-01, 5.49086838e-34, 1.46446609e-01], requires_grad=True)"
      ]
     },
     "execution_count": 6,
     "metadata": {},
     "output_type": "execute_result"
    }
   ],
   "source": [
    "@qml.qnode(dev)\n",
    "def time(hour, minute):\n",
    "    \"\"\"Generates the quantum state associated with the time passed as argument.\n",
    "\n",
    "    Args:\n",
    "        hour (int): Hour associated with the requested time\n",
    "        minute (int): Minutes associated with the requested time\n",
    "\n",
    "    Returns:\n",
    "        (numpy.tensor): Probabilities associated with the state created.\n",
    "    \"\"\"\n",
    "    # Put your code here #       \n",
    "    qml.RY((hour/12 + minute/(60*12)) * 2*np.pi, wires = \"hour\")\n",
    "    qml.RY(minute/60 * 2*np.pi, wires = \"minute\")\n",
    "    return qml.probs(wires=[\"hour\", \"minute\"])\n",
    "\n",
    "time(1, 30)"
   ]
  },
  {
   "cell_type": "code",
   "execution_count": 9,
   "id": "28214e98",
   "metadata": {},
   "outputs": [
    {
     "data": {
      "text/plain": [
       "tensor([1., 2., 3., 4., 5., 6., 7., 8.], requires_grad=True)"
      ]
     },
     "execution_count": 9,
     "metadata": {},
     "output_type": "execute_result"
    }
   ],
   "source": [
    "dev = qml.device(\"default.qubit\", wires=3)\n",
    "\n",
    "@qml.qnode(dev)\n",
    "def model(alpha):\n",
    "    \"\"\"In this qnode you will define your model in such a way that there is a single \n",
    "    parameter alpha which returns each of the basic states.\n",
    "\n",
    "    Args:\n",
    "        alpha (float): The only parameter of the model.\n",
    "\n",
    "    Returns:\n",
    "        (numpy.tensor): The probability vector of the resulting quantum state.\n",
    "    \"\"\"\n",
    "    # Put your code here #\n",
    "    \n",
    "    return qml.probs(wires=range(3))\n",
    "\n",
    "def generate_coefficients():\n",
    "    \"\"\"This function must return a list of 8 different values of the parameter that\n",
    "    generate the states 000, 001, 010, ..., 111, respectively, with your ansatz.\n",
    "\n",
    "    Returns:\n",
    "        (list(int)): A list of eight real numbers.\n",
    "    \"\"\"\n",
    "    # Put your code here #\n",
    "    return np.linspace(1, 8, 8)\n",
    "\n",
    "generate_coefficients()"
   ]
  },
  {
   "cell_type": "code",
   "execution_count": null,
   "id": "7cce3320",
   "metadata": {},
   "outputs": [],
   "source": [
    "    qml.ControlledQubitUnitary(qml.CZ(wires=[1,2]).matrix(), control_wires=[0], wires=[1,2])"
   ]
  },
  {
   "cell_type": "code",
   "execution_count": 10,
   "id": "290f445e",
   "metadata": {},
   "outputs": [],
   "source": [
    "import pennylane as qml\n",
    "import pennylane.numpy as np"
   ]
  },
  {
   "cell_type": "code",
   "execution_count": 11,
   "id": "fc42cfa0",
   "metadata": {},
   "outputs": [],
   "source": [
    "def encode(i, j, k):\n",
    "    \"\"\"\n",
    "    Quantum encoding function. It must act only on the first two qubits.\n",
    "    This function does not return anything, it simply applies gates.\n",
    "\n",
    "    Args:\n",
    "        i, j, k (int): The three encoding bits. They will take the values 1 or 0.\n",
    "\n",
    "    \"\"\" \n",
    "    if i == 0:\n",
    "\n",
    "        if j == 0:\n",
    "\n",
    "            if k == 0:\n",
    "                return None\n",
    "            else:\n",
    "                qml.PauliX(wires = 0)\n",
    "                qml.PauliX(wires = 1)\n",
    "\n",
    "        else:\n",
    "\n",
    "            if k == 0:\n",
    "                qml.PauliX(wires = 1)\n",
    "            else:\n",
    "                qml.PauliX(wires = 0)\n",
    "    \n",
    "    else:\n",
    "        qml.PauliZ(wires = 0)\n",
    "        \n",
    "        if j == 0:\n",
    "\n",
    "            if k == 0:\n",
    "                return None\n",
    "            else:\n",
    "                qml.PauliX(wires = 0)\n",
    "                qml.PauliX(wires = 1)\n",
    "\n",
    "        else:\n",
    "\n",
    "            if k == 0:\n",
    "                qml.PauliX(wires = 1)\n",
    "            else:\n",
    "                qml.PauliX(wires = 0)"
   ]
  },
  {
   "cell_type": "code",
   "execution_count": 12,
   "id": "b1fd7e56",
   "metadata": {},
   "outputs": [],
   "source": [
    "dev = qml.device(\"default.qubit\", wires=[\"e1\", \"e2\", \"e3\", \"e4\", \"result\"], shots=1)\n",
    "dev.operations.add(\"op\")\n",
    "\n",
    "wires = [\"e1\", \"e2\", \"e3\", \"e4\", \"result\"]"
   ]
  },
  {
   "cell_type": "code",
   "execution_count": null,
   "id": "300851d9",
   "metadata": {},
   "outputs": [],
   "source": [
    "def circuit(project_execution):\n",
    "    \"\"\"This is the circuit we will use to detect which is the lazy worker. Remember \n",
    "    that we will only execute one shot.\n",
    "\n",
    "    Args:\n",
    "        project_execution (qml.ops): \n",
    "            The gate in charge of marking in the last qubit if the project has been finished\n",
    "            as indicated in the statement.\n",
    "\n",
    "    Returns:\n",
    "        (numpy.tensor): Measurement output in the 5 qubits after a shot.\n",
    "    \"\"\"\n",
    "    # Put your code here #\n",
    "    project_execution(wires=wires)\n",
    "    # Put your code here #\n",
    "    \n",
    "    return qml.sample(wires=dev.wires)\n",
    "\n",
    "def process_output(measurement):\n",
    "    \"\"\"This function will take the circuit measurement and process it to determine who is the lazy worker.\n",
    "\n",
    "    Args:\n",
    "        measurement (numpy.tensor): Measurement output in the 5 qubits after a shot.\n",
    "\n",
    "    Returns:\n",
    "        (str): This function must return \"e1\", \"e2\" \"e3\" or \"e4\" - the lazy worker.\n",
    "    \"\"\"\n",
    "    # Put your code here #"
   ]
  },
  {
   "cell_type": "code",
   "execution_count": null,
   "id": "0d35702a",
   "metadata": {},
   "outputs": [],
   "source": [
    "# These functions are responsible for testing the solution.\n",
    "\n",
    "def run(test_case_input: str) -> str:\n",
    "    return None\n",
    "\n",
    "def check(solution_output: str, expected_output: str) -> None:\n",
    "    samples = 5000\n",
    "\n",
    "    solutions = []\n",
    "    output = []\n",
    "\n",
    "    for s in range(samples):\n",
    "        lazy = np.random.randint(0, 4)\n",
    "        no_lazy = list(range(4))\n",
    "        no_lazy.pop(lazy)\n",
    "\n",
    "        def project_execution(wires):\n",
    "            class op(qml.operation.Operator):\n",
    "                num_wires = 5\n",
    "\n",
    "                def compute_decomposition(self, wires):\n",
    "                    raise ValueError(\"You cant descompose this gate\")\n",
    "\n",
    "                def matrix(self):\n",
    "                    m = np.zeros([32, 32])\n",
    "                    for i in range(32):\n",
    "                        b = [int(j) for j in bin(64 + i)[-5:]]\n",
    "                        if sum(np.array(b)[no_lazy]) == 3:\n",
    "                            if b[-1] == 0:\n",
    "                                m[i, i + 1] = 1\n",
    "                            else:\n",
    "                                m[i, i - 1] = 1\n",
    "                        else:\n",
    "                            m[i, i] = 1\n",
    "                    return m\n",
    "\n",
    "            op(wires=wires)\n",
    "            return None\n",
    "\n",
    "        out = circuit(project_execution)\n",
    "        solutions.append(lazy + 1)\n",
    "        output.append(int(process_output(out)[-1]))\n",
    "\n",
    "    assert np.allclose(\n",
    "        output, solutions, rtol=1e-4\n",
    "    ), \"Your circuit does not give the correct output.\"\n",
    "\n",
    "    ops = [op.name for op in circuit.tape.operations]\n",
    "    assert ops.count(\"op\") == 1, \"You have used the oracle more than one time.\""
   ]
  },
  {
   "cell_type": "code",
   "execution_count": null,
   "id": "316a0b0b",
   "metadata": {},
   "outputs": [],
   "source": [
    "def bell_preparation(wires):\n",
    "    \"\"\"\n",
    "    Quantum function in charge of generating the bell state of 4 qubits.\n",
    "    You simply add the necessary gates, do not return anything.\n",
    "\n",
    "    Args:\n",
    "        wires (list(str)): list of the 4 wires where the gate will run\n",
    "\n",
    "    \"\"\"\n",
    "    dev = qml.device(\"default.qubit\", wires = wires)\n",
    "    \n",
    "    @qml.qnode(dev)\n",
    "    def circuit():\n",
    "        qml.Hadamard(wires = 0)\n",
    "        [qml.CNOT(wires = (0, i)) for i in [1, 2, 3]]\n",
    "        \n",
    "        return circuit()"
   ]
  }
 ],
 "metadata": {
  "kernelspec": {
   "display_name": "Python 3 (ipykernel)",
   "language": "python",
   "name": "python3"
  },
  "language_info": {
   "codemirror_mode": {
    "name": "ipython",
    "version": 3
   },
   "file_extension": ".py",
   "mimetype": "text/x-python",
   "name": "python",
   "nbconvert_exporter": "python",
   "pygments_lexer": "ipython3",
   "version": "3.9.13"
  }
 },
 "nbformat": 4,
 "nbformat_minor": 5
}
