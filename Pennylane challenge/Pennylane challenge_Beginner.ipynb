{
 "cells": [
  {
   "cell_type": "markdown",
   "metadata": {},
   "source": [
    "# Comparing expectation values"
   ]
  },
  {
   "cell_type": "code",
   "execution_count": null,
   "metadata": {},
   "outputs": [],
   "source": [
    "import pennylane as qml\n",
    "from pennylane import numpy as np\n",
    "\n",
    "dev = qml.device('default.qubit', wires = 1)\n",
    "\n",
    "@qml.qnode(dev)\n",
    "def circuit1(angles):\n",
    "\n",
    "    qml.RX(angles[0], wires = 0)\n",
    "    qml.RY(angles[1], wires = 0)\n",
    "\n",
    "    return qml.expval(qml.PauliX(0))\n",
    "\n",
    "@qml.qnode(dev)\n",
    "def circuit2(angles):\n",
    "\n",
    "    qml.RY(angles[1], wires = 0)\n",
    "    qml.RX(angles[0], wires = 0)\n",
    "\n",
    "    return qml.expval(qml.PauliX(0))\n",
    "\n",
    "def compare_circuits(angles):\n",
    "    return np.abs(circuit1(angles) - circuit2(angles))"
   ]
  },
  {
   "cell_type": "markdown",
   "metadata": {},
   "source": [
    "# Returning expectation values"
   ]
  },
  {
   "cell_type": "code",
   "execution_count": null,
   "metadata": {},
   "outputs": [],
   "source": [
    "dev = qml.device('default.qubit', wires = 1)\n",
    "\n",
    "@qml.qnode(dev)\n",
    "def simple_circuit(angle):\n",
    "\n",
    "    qml.RY(angle, wires = 0)\n",
    "\n",
    "    return qml.expval(qml.PauliX(0))"
   ]
  },
  {
   "cell_type": "markdown",
   "metadata": {},
   "source": [
    "# Returning Probabilities"
   ]
  },
  {
   "cell_type": "code",
   "execution_count": null,
   "metadata": {},
   "outputs": [],
   "source": [
    "dev = qml.device('default.qubit', wires = 1)\n",
    "\n",
    "@qml.qnode(dev)\n",
    "def simple_circuit(angle):\n",
    "\n",
    "    qml.RX(angle, wires = 0)\n",
    "\n",
    "    return qml.probs(0)"
   ]
  },
  {
   "cell_type": "markdown",
   "metadata": {},
   "source": [
    "# Returning tensor product observables"
   ]
  },
  {
   "cell_type": "code",
   "execution_count": null,
   "metadata": {},
   "outputs": [],
   "source": [
    "dev = qml.device('default.qubit', wires = 2)\n",
    "\n",
    "@qml.qnode(dev)\n",
    "def simple_circuit(angle):\n",
    "\n",
    "    qml.Hadamard(wires = 0)\n",
    "    qml.CNOT(wires = [0, 1])\n",
    "\n",
    "    qml.RY(angle, wires = 0)\n",
    "\n",
    "    return qml.expval(qml.PauliZ(0) @ qml.PauliZ(1))"
   ]
  }
 ],
 "metadata": {
  "language_info": {
   "name": "python"
  }
 },
 "nbformat": 4,
 "nbformat_minor": 2
}
