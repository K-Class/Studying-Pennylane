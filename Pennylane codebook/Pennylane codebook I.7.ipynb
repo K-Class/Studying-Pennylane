{
 "cells": [
  {
   "cell_type": "markdown",
   "metadata": {},
   "source": [
    "# Pennylane Codebook I.7."
   ]
  },
  {
   "cell_type": "code",
   "execution_count": 1,
   "metadata": {},
   "outputs": [],
   "source": [
    "import pennylane as qml\n",
    "from pennylane import numpy as np\n",
    "import matplotlib.pyplot as plt"
   ]
  },
  {
   "cell_type": "code",
   "execution_count": null,
   "metadata": {},
   "outputs": [],
   "source": [
    "dev = qml.device(\"default.qubit\", wires=1)\n",
    "\n",
    "@qml.qnode(dev)\n",
    "def convert_to_rz_rx():\n",
    "    # Hadamard gate\n",
    "    # qml.RZ(np.pi/2, wires=0)\n",
    "    # qml.RX(np.pi/2, wires=0)\n",
    "    # qml.RZ(np.pi/2, wires=0)\n",
    "\n",
    "    # S, T* gate\n",
    "    # qml.RZ(np.pi/4, wires=0)\n",
    "\n",
    "    # Y gate = iXZ\n",
    "    # qml.RZ(np.pi, wires=0)\n",
    "    # qml.RX(np.pi, wires=0)\n",
    "    qml.RZ(np.pi/2, wires = 0)\n",
    "    qml.RX(np.pi/2, wires = 0)\n",
    "    qml.RZ(7*np.pi/4, wires = 0)\n",
    "    qml.RX(np.pi/2, wires = 0)\n",
    "    return qml.state()\n"
   ]
  },
  {
   "cell_type": "code",
   "execution_count": null,
   "metadata": {},
   "outputs": [],
   "source": [
    "@qml.qnode(dev)\n",
    "def unitary_with_h_and_t():\n",
    "    qml.Hadamard(wires=0)\n",
    "    qml.T(wires=0)\n",
    "    qml.Hadamard(wires=0)\n",
    "    qml.T(wires=0)\n",
    "    qml.T(wires=0)\n",
    "    qml.Hadamard(wires=0)\n",
    "    return qml.state()"
   ]
  }
 ],
 "metadata": {
  "kernelspec": {
   "display_name": "base",
   "language": "python",
   "name": "python3"
  },
  "language_info": {
   "codemirror_mode": {
    "name": "ipython",
    "version": 3
   },
   "file_extension": ".py",
   "mimetype": "text/x-python",
   "name": "python",
   "nbconvert_exporter": "python",
   "pygments_lexer": "ipython3",
   "version": "3.11.5"
  }
 },
 "nbformat": 4,
 "nbformat_minor": 2
}
