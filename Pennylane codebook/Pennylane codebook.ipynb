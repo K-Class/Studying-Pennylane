{
 "cells": [
  {
   "cell_type": "code",
   "execution_count": 2,
   "metadata": {},
   "outputs": [],
   "source": [
    "import pennylane as qml\n",
    "from pennylane import numpy as np\n",
    "import matplotlib.pyplot as plt"
   ]
  },
  {
   "cell_type": "code",
   "execution_count": 2,
   "metadata": {},
   "outputs": [
    {
     "name": "stdout",
     "output_type": "stream",
     "text": [
      "[1.+0.j 0.+0.j]\n",
      "[ 0.+0.j -1.+0.j]\n"
     ]
    }
   ],
   "source": [
    "dev = qml.device(\"default.qubit\", wires = 1)\n",
    "\n",
    "@qml.qnode(dev)\n",
    "def apply_hxh(state):\n",
    "    if state == 1:\n",
    "        qml.PauliX(wires = 0)\n",
    "    qml.Hadamard(wires = 0)\n",
    "    qml.PauliX(wires = 0)\n",
    "    qml.Hadamard(wires = 0)\n",
    "    return qml.state()\n",
    "\n",
    "print(apply_hxh(0))\n",
    "print(apply_hxh(1))"
   ]
  },
  {
   "cell_type": "code",
   "execution_count": 3,
   "metadata": {},
   "outputs": [],
   "source": [
    "dev = qml.device(\"default.qubit\", wires = 1)\n",
    "\n",
    "@qml.qnode(dev)\n",
    "def apply_z_to_plus():\n",
    "    qml.Hadamard(wires = 0)\n",
    "    qml.PauliZ(wires = 0)\n",
    "    return qml.state()"
   ]
  },
  {
   "cell_type": "code",
   "execution_count": 8,
   "metadata": {},
   "outputs": [],
   "source": [
    "dev = qml.device(\"default.qubit\", wires = 3)\n",
    "\n",
    "@qml.qnode(dev)\n",
    "def too_many_ts():\n",
    "    qml.Hadamard(wires = 0)\n",
    "    qml.Hadamard(wires = 1)\n",
    "    qml.Hadamard(wires = 2)\n",
    "\n",
    "    qml.T(wires = 0)\n",
    "    qml.T(wires = 1)\n",
    "    qml.adjoint(qml.T)(wires = 2)\n",
    "\n",
    "    qml.T(wires = 0)\n",
    "\n",
    "    qml.Hadamard(wires = 0)\n",
    "    qml.Hadamard(wires = 1)\n",
    "    qml.Hadamard(wires = 2)\n",
    "\n",
    "    qml.adjoint(qml.T)(wires = 0)\n",
    "    qml.T(wires = 1)\n",
    "    qml.adjoint(qml.T)(wires = 2)\n",
    "\n",
    "    qml.adjoint(qml.T)(wires = 0)\n",
    "    qml.T(wires = 1)\n",
    "    qml.adjoint(qml.T)(wires = 2)\n",
    "\n",
    "    qml.T(wires = 1)\n",
    "    qml.adjoint(qml.T)(wires = 2)\n",
    "\n",
    "    qml.T(wires = 1)\n",
    "\n",
    "    qml.Hadamard(wires = 0)\n",
    "    qml.Hadamard(wires = 1)\n",
    "    qml.Hadamard(wires = 2)\n",
    "\n",
    "    return qml.probs(wires = [0, 1, 2])\n",
    "\n",
    "\n",
    "@qml.qnode(dev)\n",
    "def just_enough_ts():\n",
    "    qml.Hadamard(wires = 0)\n",
    "    qml.Hadamard(wires = 1)\n",
    "    qml.Hadamard(wires = 2)\n",
    "\n",
    "    qml.S(wires = 0)\n",
    "    qml.T(wires = 1)\n",
    "    qml.adjoint(qml.T)(wires = 2)\n",
    "\n",
    "    qml.Hadamard(wires = 0)\n",
    "    qml.Hadamard(wires = 1)\n",
    "    qml.Hadamard(wires = 2)\n",
    "\n",
    "    qml.adjoint(qml.S)(wires = 0)\n",
    "    qml.PauliZ(wires = 1)\n",
    "    qml.adjoint(qml.S)(wires = 2)\n",
    "\n",
    "    qml.adjoint(qml.T)(wires = 2)\n",
    "\n",
    "    qml.Hadamard(wires = 0)\n",
    "    qml.Hadamard(wires = 1)\n",
    "    qml.Hadamard(wires = 2)\n",
    "\n",
    "    return qml.probs(wires = [0, 1, 2])\n",
    "\n",
    "my_qnode = qml.QNode(too_many_ts, dev)\n"
   ]
  },
  {
   "cell_type": "code",
   "execution_count": 10,
   "metadata": {},
   "outputs": [
    {
     "name": "stdout",
     "output_type": "stream",
     "text": [
      "{'resources': Resources(num_wires=3, num_gates=22, gate_types=defaultdict(<class 'int'>, {'Hadamard': 9, 'T': 7, 'Adjoint(T)': 6}), gate_sizes=defaultdict(<class 'int'>, {1: 22}), depth=8, shots=Shots(total_shots=None, shot_vector=())), 'num_observables': 1, 'num_diagonalizing_gates': 0, 'num_trainable_params': 0, 'num_device_wires': 3, 'device_name': 'default.qubit', 'expansion_strategy': 'gradient', 'gradient_options': {}, 'interface': 'auto', 'diff_method': 'best', 'gradient_fn': 'backprop'}\n"
     ]
    }
   ],
   "source": [
    "resource_calculator = qml.specs(my_qnode)\n",
    "print(resource_calculator())"
   ]
  },
  {
   "cell_type": "code",
   "execution_count": null,
   "metadata": {},
   "outputs": [],
   "source": []
  }
 ],
 "metadata": {
  "kernelspec": {
   "display_name": "base",
   "language": "python",
   "name": "python3"
  },
  "language_info": {
   "codemirror_mode": {
    "name": "ipython",
    "version": 3
   },
   "file_extension": ".py",
   "mimetype": "text/x-python",
   "name": "python",
   "nbconvert_exporter": "python",
   "pygments_lexer": "ipython3",
   "version": "3.11.5"
  }
 },
 "nbformat": 4,
 "nbformat_minor": 2
}
