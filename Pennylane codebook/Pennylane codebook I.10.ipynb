{
 "cells": [
  {
   "cell_type": "markdown",
   "metadata": {},
   "source": [
    "# Pennylane codebook I.10."
   ]
  },
  {
   "cell_type": "code",
   "execution_count": 1,
   "metadata": {},
   "outputs": [],
   "source": [
    "import pennylane as qml\n",
    "from pennylane import numpy as np\n",
    "import matplotlib.pyplot as plt"
   ]
  },
  {
   "cell_type": "code",
   "execution_count": null,
   "metadata": {},
   "outputs": [],
   "source": [
    "dev = qml.device(\"default.qubit\", wires = 1)\n",
    "\n",
    "@qml.qnode(dev)\n",
    "def circuit():\n",
    "    \n",
    "    qml.RX(np.pi/4, wires = 0)\n",
    "    qml.Hadamard(wires = 0)\n",
    "    qml.PauliZ(wires = 0)\n",
    "\n",
    "    return qml.expval(qml.PauliY(0))"
   ]
  },
  {
   "cell_type": "code",
   "execution_count": 12,
   "metadata": {},
   "outputs": [
    {
     "name": "stdout",
     "output_type": "stream",
     "text": [
      "[-0.7, -0.716, -0.7122, -0.7127, -0.707532]\n"
     ]
    }
   ],
   "source": [
    "shot_results = []\n",
    "\n",
    "shot_values = [100, 1000, 10000, 100000, 1000000]\n",
    "\n",
    "for shots in shot_values:\n",
    "    dev = qml.device(\"default.qubit\", wires = 1, shots = shots)\n",
    "\n",
    "    @qml.qnode(dev)\n",
    "    def circuit():\n",
    "    \n",
    "        qml.RX(np.pi/4, wires = 0)\n",
    "        qml.Hadamard(wires = 0)\n",
    "        qml.PauliZ(wires = 0)\n",
    "\n",
    "        return qml.expval(qml.PauliY(0))\n",
    "    \n",
    "    shot_results.append(circuit())\n",
    "\n",
    "print(qml.math.unwrap(shot_results))"
   ]
  },
  {
   "cell_type": "code",
   "execution_count": 14,
   "metadata": {},
   "outputs": [
    {
     "name": "stdout",
     "output_type": "stream",
     "text": [
      "3\n",
      "8\n",
      "1.984375\n"
     ]
    }
   ],
   "source": [
    "import numpy as np\n",
    "\n",
    "# Create a NumPy array\n",
    "arr = np.array([1, 2, 3, 4, 5, 1, 2, 1])\n",
    "\n",
    "# Count the number of occurrences of a specific value (e.g., 1)\n",
    "count = np.count_nonzero(arr == 1)\n",
    "\n",
    "print(count)  # Output: 3\n",
    "\n",
    "print(len(arr))\n",
    "\n",
    "print(np.var(arr))"
   ]
  },
  {
   "cell_type": "code",
   "execution_count": 17,
   "metadata": {},
   "outputs": [
    {
     "name": "stdout",
     "output_type": "stream",
     "text": [
      "0.0010873743999999998\n"
     ]
    }
   ],
   "source": [
    "def variance_experiment(n_shots):\n",
    "    n_trials = 100\n",
    "    \n",
    "    dev = qml.device(\"default.qubit\", wires = 1, shots = n_shots)\n",
    "\n",
    "    @qml.qnode(dev)\n",
    "    def circuit():\n",
    "        qml.Hadamard(wires = 0)\n",
    "        return qml.expval(qml.PauliZ(0))\n",
    "    \n",
    "    result = []\n",
    "\n",
    "    for i in range(n_trials):\n",
    "        result.append(circuit())\n",
    "\n",
    "    return np.var(result)\n",
    "\n",
    "print(variance_experiment(1000))\n"
   ]
  },
  {
   "cell_type": "code",
   "execution_count": null,
   "metadata": {},
   "outputs": [],
   "source": []
  }
 ],
 "metadata": {
  "kernelspec": {
   "display_name": "base",
   "language": "python",
   "name": "python3"
  },
  "language_info": {
   "codemirror_mode": {
    "name": "ipython",
    "version": 3
   },
   "file_extension": ".py",
   "mimetype": "text/x-python",
   "name": "python",
   "nbconvert_exporter": "python",
   "pygments_lexer": "ipython3",
   "version": "3.11.5"
  }
 },
 "nbformat": 4,
 "nbformat_minor": 2
}
