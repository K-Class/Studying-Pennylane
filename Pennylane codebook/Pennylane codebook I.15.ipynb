{
 "cells": [
  {
   "cell_type": "markdown",
   "metadata": {},
   "source": [
    "# Pennylane codebook I.15."
   ]
  },
  {
   "cell_type": "code",
   "execution_count": 1,
   "metadata": {},
   "outputs": [],
   "source": [
    "import pennylane as qml\n",
    "from pennylane import numpy as np\n",
    "import matplotlib.pyplot as plt"
   ]
  },
  {
   "cell_type": "code",
   "execution_count": 10,
   "metadata": {},
   "outputs": [
    {
     "name": "stdout",
     "output_type": "stream",
     "text": [
      "[-0.01865242-0.05897211j  0.0547943 +0.49312469j -0.01865242-0.05897211j\n",
      "  0.0547943 +0.49312469j -0.01865242-0.05897211j  0.0547943 +0.49312469j\n",
      " -0.01865242-0.05897211j  0.0547943 +0.49312469j]\n",
      "0: ──H──Rot(0.10,1.34,2.91)─╭●──H─╭●─┤  State\n",
      "1: ──H─╭●───────────────────╰X─╭●─│──┤  State\n",
      "2: ────╰X──────────────────────╰X─╰Z─┤  State\n"
     ]
    }
   ],
   "source": [
    "dev = qml.device(\"default.qubit\", wires = 3)\n",
    "\n",
    "def state_preparation(angles):\n",
    "    qml.Hadamard(wires = 0)\n",
    "    qml.Rot(*angles, wires = 0)\n",
    "\n",
    "def entangle_qubits():\n",
    "    qml.Hadamard(wires = 1)\n",
    "    qml.CNOT(wires = [1, 2])\n",
    "\n",
    "def rotate_and_controls():\n",
    "    qml.CNOT(wires = [0, 1])\n",
    "    qml.Hadamard(wires = 0)\n",
    "\n",
    "    qml.CNOT(wires = [1, 2])\n",
    "    qml.CZ(wires = [0, 2])\n",
    "\n",
    "@qml.qnode(dev)\n",
    "def teleportation(angles):\n",
    "\n",
    "    state_preparation(angles)\n",
    "    entangle_qubits()\n",
    "    rotate_and_controls()\n",
    "\n",
    "    return qml.state()\n",
    "\n",
    "# angles = np.random.uniform(0, np.pi, size=3)\n",
    "\n",
    "print(teleportation(angles))\n",
    "print(qml.draw(teleportation)(angles))"
   ]
  },
  {
   "cell_type": "code",
   "execution_count": 11,
   "metadata": {},
   "outputs": [
    {
     "name": "stdout",
     "output_type": "stream",
     "text": [
      "[2.30091997 0.02692021 2.23160499]\n"
     ]
    }
   ],
   "source": [
    "print(np.random.uniform(0, np.pi, size=3))"
   ]
  },
  {
   "cell_type": "code",
   "execution_count": null,
   "metadata": {},
   "outputs": [],
   "source": []
  }
 ],
 "metadata": {
  "kernelspec": {
   "display_name": "base",
   "language": "python",
   "name": "python3"
  },
  "language_info": {
   "codemirror_mode": {
    "name": "ipython",
    "version": 3
   },
   "file_extension": ".py",
   "mimetype": "text/x-python",
   "name": "python",
   "nbconvert_exporter": "python",
   "pygments_lexer": "ipython3",
   "version": "3.11.5"
  }
 },
 "nbformat": 4,
 "nbformat_minor": 2
}
