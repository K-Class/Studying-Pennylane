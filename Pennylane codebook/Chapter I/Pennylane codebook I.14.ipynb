{
 "cells": [
  {
   "cell_type": "markdown",
   "metadata": {},
   "source": [
    "# Pennylane codebook I.14."
   ]
  },
  {
   "cell_type": "code",
   "execution_count": 1,
   "metadata": {},
   "outputs": [],
   "source": [
    "import pennylane as qml\n",
    "from pennylane import numpy as np\n",
    "import matplotlib.pyplot as plt"
   ]
  },
  {
   "cell_type": "code",
   "execution_count": 3,
   "metadata": {},
   "outputs": [
    {
     "name": "stdout",
     "output_type": "stream",
     "text": [
      "0: ──H─╭●─┤  State\n",
      "1: ────╰X─┤  State\n",
      "0: ──H─╭●──Z─┤  State\n",
      "1: ────╰X────┤  State\n",
      "0: ──H─╭●────┤  State\n",
      "1: ────╰X──X─┤  State\n",
      "0: ──H─╭●──Z─┤  State\n",
      "1: ────╰X──X─┤  State\n"
     ]
    }
   ],
   "source": [
    "dev = qml.device('default.qubit', wires = 2)\n",
    "\n",
    "@qml.qnode(dev)\n",
    "def prepare_psi_plus():\n",
    "\n",
    "    qml.Hadamard(wires = 0)\n",
    "    qml.CNOT(wires = [0, 1])\n",
    "\n",
    "    return qml.state()\n",
    "\n",
    "@qml.qnode(dev)\n",
    "def prepare_psi_minus():\n",
    "\n",
    "    qml.Hadamard(wires = 0)\n",
    "    qml.CNOT(wires = [0, 1])\n",
    "    qml.PauliZ(wires = 0)\n",
    "\n",
    "    return qml.state()\n",
    "\n",
    "@qml.qnode(dev)\n",
    "def prepare_phi_plus():\n",
    "\n",
    "    qml.Hadamard(wires = 0)\n",
    "    qml.CNOT(wires = [0, 1])\n",
    "    qml.PauliX(wires = 1)\n",
    "\n",
    "    return qml.state()\n",
    "\n",
    "@qml.qnode(dev)\n",
    "def prepare_phi_minus():\n",
    "\n",
    "    qml.Hadamard(wires = 0)\n",
    "    qml.CNOT(wires = [0, 1])\n",
    "    qml.PauliX(wires = 1)\n",
    "    qml.PauliZ(wires = 0)\n",
    "\n",
    "    return qml.state()\n",
    "\n",
    "print(qml.draw(prepare_psi_plus)())\n",
    "print(qml.draw(prepare_psi_minus)())\n",
    "print(qml.draw(prepare_phi_plus)())\n",
    "print(qml.draw(prepare_phi_minus)())"
   ]
  },
  {
   "cell_type": "code",
   "execution_count": 7,
   "metadata": {},
   "outputs": [
    {
     "name": "stdout",
     "output_type": "stream",
     "text": [
      "0: ───────╭○────╭●───────╭●─────┤  State\n",
      "1: ──X────├●────├○───────├●─────┤  State\n",
      "2: ──X──H─╰X──H─╰X──H──S─╰X──S†─┤  State\n",
      "[ 0.        +0.j  0.        +0.j -0.70710678+0.j  0.70710678+0.j\n",
      "  0.        +0.j  0.        +0.j  0.        +0.j  0.        +0.j]\n"
     ]
    },
    {
     "name": "stderr",
     "output_type": "stream",
     "text": [
      "c:\\Users\\sidej\\anaconda3\\Lib\\site-packages\\pennylane\\ops\\qubit\\non_parametric_ops.py:2095: UserWarning: The control_wires keyword will be removed soon. Use wires = (control_wires, target_wire) instead. See the documentation for more information.\n",
      "  warnings.warn(\n"
     ]
    }
   ],
   "source": [
    "dev = qml.device('default.qubit', wires = 3)\n",
    "\n",
    "state = [0, 1]\n",
    "\n",
    "@qml.qnode(dev)\n",
    "def apply_control_sequence(state):\n",
    "\n",
    "    if state[0] == 1:\n",
    "        qml.PauliX(wires = 0)\n",
    "    if state[1] == 1:\n",
    "        qml.PauliX(wires = 1)\n",
    "\n",
    "    qml.PauliX(wires = 2)\n",
    "    qml.Hadamard(wires = 2)\n",
    "\n",
    "    qml.MultiControlledX(control_wires = [0, 1], wires = 2, control_values = '01')\n",
    "\n",
    "    qml.Hadamard(wires = 2)\n",
    "    qml.MultiControlledX(control_wires = [0, 1], wires = 2, control_values = '10')\n",
    "    qml.Hadamard(wires = 2)\n",
    "\n",
    "    \n",
    "    qml.adjoint(qml.S)(wires = 2)\n",
    "    qml.Toffoli(wires = [0, 1, 2])\n",
    "    qml.S(wires = 2)\n",
    "\n",
    "    return qml.state()\n",
    "\n",
    "print(qml.draw(apply_control_sequence)(state))\n",
    "print(apply_control_sequence(state))"
   ]
  },
  {
   "cell_type": "code",
   "execution_count": null,
   "metadata": {},
   "outputs": [],
   "source": []
  }
 ],
 "metadata": {
  "kernelspec": {
   "display_name": "base",
   "language": "python",
   "name": "python3"
  },
  "language_info": {
   "codemirror_mode": {
    "name": "ipython",
    "version": 3
   },
   "file_extension": ".py",
   "mimetype": "text/x-python",
   "name": "python",
   "nbconvert_exporter": "python",
   "pygments_lexer": "ipython3",
   "version": "3.11.5"
  }
 },
 "nbformat": 4,
 "nbformat_minor": 2
}
