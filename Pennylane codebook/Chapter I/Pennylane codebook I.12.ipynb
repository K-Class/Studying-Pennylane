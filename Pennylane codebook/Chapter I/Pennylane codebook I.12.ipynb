{
 "cells": [
  {
   "cell_type": "markdown",
   "metadata": {},
   "source": [
    "# Pennylane codebook I.12."
   ]
  },
  {
   "cell_type": "code",
   "execution_count": 1,
   "metadata": {},
   "outputs": [],
   "source": [
    "import pennylane as qml\n",
    "from pennylane import numpy as np\n",
    "import matplotlib.pyplot as plt"
   ]
  },
  {
   "cell_type": "code",
   "execution_count": 2,
   "metadata": {},
   "outputs": [
    {
     "name": "stdout",
     "output_type": "stream",
     "text": [
      "[1.+0.j 0.+0.j 0.+0.j 0.+0.j] [0.+0.j 1.+0.j 0.+0.j 0.+0.j] [0.+0.j 0.+0.j 0.+0.j 1.+0.j] [0.+0.j 0.+0.j 1.+0.j 0.+0.j]\n"
     ]
    }
   ],
   "source": [
    "num_wires = 2\n",
    "dev = qml.device(\"default.qubit\", wires = num_wires)\n",
    "\n",
    "@qml.qnode(dev)\n",
    "def apply_cnot(basis_id):\n",
    "\n",
    "    bits = [int(x) for x in np.binary_repr(basis_id, width = num_wires)]\n",
    "    qml.BasisStatePreparation(bits, wires = [0, 1])\n",
    "\n",
    "    qml.CNOT(wires = [0, 1])\n",
    "\n",
    "    return qml.state()\n",
    "\n",
    "print(apply_cnot(0), apply_cnot(1), apply_cnot(2), apply_cnot(3))"
   ]
  },
  {
   "cell_type": "code",
   "execution_count": null,
   "metadata": {},
   "outputs": [],
   "source": [
    "dev = qml.device(\"default.qubit\", wires = 2)\n",
    "\n",
    "@qml.qnode(dev)\n",
    "def apply_h_cnot():\n",
    "\n",
    "    qml.Hadamard(wires = 0)\n",
    "    qml.CNOT(wires = [0, 1])\n",
    "\n",
    "    return qml.state()"
   ]
  },
  {
   "cell_type": "code",
   "execution_count": 5,
   "metadata": {},
   "outputs": [
    {
     "name": "stdout",
     "output_type": "stream",
     "text": [
      "[5.00000000e-01 0.00000000e+00 0.00000000e+00 0.00000000e+00\n",
      " 4.98751041e-01 0.00000000e+00 1.23651067e-03 1.24480103e-05]\n"
     ]
    }
   ],
   "source": [
    "dev = qml.device(\"default.qubit\", wires = 3)\n",
    "\n",
    "@qml.qnode(dev)\n",
    "def controlled_rotations(theta, phi, omega):\n",
    "\n",
    "    qml.Hadamard(wires = 0)\n",
    "    qml.CRX(theta, wires = [0, 1])\n",
    "    qml.CRY(phi, wires = [1, 2])\n",
    "    qml.CRZ(omega, wires = [2, 0])\n",
    "\n",
    "    return qml.probs(wires = [0, 1, 2])\n",
    "\n",
    "theta, phi, omega = 0.1, 0.2, 0.3\n",
    "print(controlled_rotations(theta, phi, omega))"
   ]
  },
  {
   "cell_type": "code",
   "execution_count": null,
   "metadata": {},
   "outputs": [],
   "source": []
  }
 ],
 "metadata": {
  "kernelspec": {
   "display_name": "base",
   "language": "python",
   "name": "python3"
  },
  "language_info": {
   "codemirror_mode": {
    "name": "ipython",
    "version": 3
   },
   "file_extension": ".py",
   "mimetype": "text/x-python",
   "name": "python",
   "nbconvert_exporter": "python",
   "pygments_lexer": "ipython3",
   "version": "3.11.5"
  }
 },
 "nbformat": 4,
 "nbformat_minor": 2
}
