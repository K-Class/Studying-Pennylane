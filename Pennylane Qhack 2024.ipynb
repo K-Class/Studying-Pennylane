{
 "cells": [
  {
   "cell_type": "code",
   "execution_count": 3,
   "metadata": {},
   "outputs": [],
   "source": [
    "import pennylane as qml\n",
    "from pennylane import numpy as np\n",
    "import matplotlib.pyplot as plt"
   ]
  },
  {
   "cell_type": "code",
   "execution_count": 17,
   "metadata": {},
   "outputs": [
    {
     "name": "stdout",
     "output_type": "stream",
     "text": [
      "[-15.7553572    0.64935631 -15.72653446]\n"
     ]
    }
   ],
   "source": [
    "def potential_energy_surface(symbols, bond_lengths):\n",
    "    \"\"\"\n",
    "    Calculates the molecular energy over various bond lenghts(AKA the potential energy suface) using the Hartree-Fock method.\n",
    "    \n",
    "    Args: \n",
    "        symbols (list(string)): A list of atomic symbols that comprise the diatomic molecule of interest.\n",
    "        bond_lengths (numpy.tensor): Bond lengths to calculate the energy over.\n",
    "        \n",
    "    Returns:\n",
    "        hf_energies(numpy.tensor): The Hartree Fock energies at every bond length value.\n",
    "    \"\"\"\n",
    "    hf_energies = []\n",
    "\n",
    "    for r in bond_lengths:\n",
    "        # Define the molecule at a specific bond length\n",
    "        geometry = np.array([[0, 0, -r / 2], [0, 0, r / 2]], requires_grad = False)\n",
    "\n",
    "        mol = qml.qchem.Molecule(symbols, geometry)\n",
    "\n",
    "        # Define the Hartree-Fock device\n",
    "        # dev = qml.device(\"default.qubit\", wires = 2)\n",
    "\n",
    "        # Define the Hartree-Fock quantum function\n",
    "        hf = qml.qchem.hf_energy\n",
    "\n",
    "        # Calculate the Hartree-Fock energy\n",
    "        hf_energies.append(hf(mol)())\n",
    "\n",
    "    return np.array(hf_energies)\n",
    "\n",
    "def ground_energy(hf_energies):\n",
    "    \"\"\"Finds the minimum energy of a molecule given its potential energy surface.\n",
    "    \n",
    "    Args: \n",
    "        hf_energies (numpy.tensor): \n",
    "\n",
    "    Returns:\n",
    "        (float): The minumum energy in units of hartrees.\n",
    "    \"\"\"\n",
    "\n",
    "    ind = np.argmin(hf_energies)\n",
    "    return hf_energies[ind]\n",
    "\n",
    "def reaction():\n",
    "    \"\"\"Calculates the energy of the reactants, the activation energy, and the energy of \n",
    "    the products in that order.\n",
    "\n",
    "    Returns:\n",
    "        (numpy.tensor): [E_reactants, E_activation, E_products]\n",
    "    \"\"\"\n",
    "    molecules = {\n",
    "        \"H2\": \n",
    "            {\"symbols\": [\"H\", \"H\"], \"E0\": 0, \"E_dissociation\": 0, \"bond lengths\": np.arange(0.5, 9.3, 0.3)}, \n",
    "        \"Li2\": \n",
    "            {\"symbols\": [\"Li\", \"Li\"], \"E0\": 0, \"E_dissociation\": 0, \"bond lengths\": np.arange(3.5, 8.3, 0.3)}, \n",
    "        \"LiH\": \n",
    "            {\"symbols\": [\"Li\", \"H\"], \"E0\": 0, \"E_dissociation\": 0, \"bond lengths\": np.arange(2.0, 6.6, 0.3)}\n",
    "    }\n",
    "\n",
    "\n",
    "    for molecule in molecules.keys():\n",
    "        hf_energies = potential_energy_surface(molecules[molecule][\"symbols\"], molecules[molecule][\"bond lengths\"])\n",
    "        molecules[molecule][\"E0\"] = ground_energy(hf_energies)\n",
    "        molecules[molecule][\"E_dissociation\"] = np.abs(hf_energies[-1] - molecules[molecule][\"E0\"])\n",
    "        # populate each molecule's E0 and E_dissociation values\n",
    "\n",
    "    # Calculate the following and don't forget to balance the chemical reaction!\n",
    "    E_reactants = molecules[\"H2\"][\"E0\"] + molecules[\"Li2\"][\"E0\"]\n",
    "    E_activation = molecules[\"H2\"][\"E_dissociation\"] + molecules[\"Li2\"][\"E_dissociation\"]\n",
    "    E_products = 2 * molecules[\"LiH\"][\"E0\"]\n",
    "\n",
    "    return np.array([E_reactants, E_activation, E_products])\n",
    "\n",
    "print(reaction())\n",
    "# print(potential_energy_surface([\"H\", \"H\"], np.arange(0.3, 9.3, 0.3)))"
   ]
  },
  {
   "cell_type": "code",
   "execution_count": 21,
   "metadata": {},
   "outputs": [
    {
     "name": "stdout",
     "output_type": "stream",
     "text": [
      "0.5161563701764889\n",
      "0.13319994384132094\n",
      "0.1967851147414983\n"
     ]
    }
   ],
   "source": [
    "molecules = {\n",
    "    \"H2\": \n",
    "        {\"symbols\": [\"H\", \"H\"], \"E0\": 0, \"E_dissociation\": 0, \"bond lengths\": np.arange(0.5, 9.3, 0.3)}, \n",
    "    \"Li2\": \n",
    "        {\"symbols\": [\"Li\", \"Li\"], \"E0\": 0, \"E_dissociation\": 0, \"bond lengths\": np.arange(3.5, 8.3, 0.3)}, \n",
    "    \"LiH\": \n",
    "        {\"symbols\": [\"Li\", \"H\"], \"E0\": 0, \"E_dissociation\": 0, \"bond lengths\": np.arange(2.0, 6.6, 0.3)}\n",
    "    }\n",
    "\n",
    "\n",
    "for molecule in molecules.keys():\n",
    "    hf_energies = potential_energy_surface(molecules[molecule][\"symbols\"], molecules[molecule][\"bond lengths\"])\n",
    "    molecules[molecule][\"E0\"] = ground_energy(hf_energies)\n",
    "    molecules[molecule][\"E_dissociation\"] = np.abs(hf_energies[-1] - molecules[molecule][\"E0\"])\n",
    "\n",
    "# E = 1.835e+22 / 6.022e+23\n",
    "# print(E)\n",
    "\n",
    "# .7553572 - .72653446\n",
    "\n",
    "# .0288227 * 6.022e+23\n",
    "\n",
    "for molecule in molecules.keys():\n",
    "    print(molecules[molecule][\"E_dissociation\"])"
   ]
  },
  {
   "cell_type": "code",
   "execution_count": 12,
   "metadata": {},
   "outputs": [
    {
     "name": "stdout",
     "output_type": "stream",
     "text": [
      "3.0\n"
     ]
    }
   ],
   "source": [
    "molecules = {\n",
    "        \"H2\": \n",
    "            {\"symbols\": [\"H\", \"H\"], \"E0\": 0, \"E_dissociation\": 0, \"bond lengths\": np.arange(0.5, 9.3, 0.3)}, \n",
    "        \"Li2\": \n",
    "            {\"symbols\": [\"Li\", \"Li\"], \"E0\": 0, \"E_dissociation\": 0, \"bond lengths\": np.arange(3.5, 8.3, 0.3)}, \n",
    "        \"LiH\": \n",
    "            {\"symbols\": [\"Li\", \"H\"], \"E0\": 0, \"E_dissociation\": 0, \"bond lengths\": np.arange(2.0, 6.6, 0.3)}\n",
    "} \n",
    "\n",
    "\n",
    "molecules[\"H2\"][\"E0\"] = 3.0\n",
    "\n",
    "print(molecules[\"H2\"][\"E0\"])"
   ]
  },
  {
   "cell_type": "code",
   "execution_count": 13,
   "metadata": {},
   "outputs": [
    {
     "name": "stdout",
     "output_type": "stream",
     "text": [
      "[-0.40332644 -0.94730793 -1.0945641  -1.11671433 -1.09200585 -1.0491709\n",
      " -0.99964323 -0.94904315 -0.90060359 -0.85609692 -0.81634416 -0.78156784\n",
      " -0.75161246 -0.72609682 -0.70453368 -0.68641593 -0.67126398 -0.65864203\n",
      " -0.64815813 -0.63946079 -0.63223745 -0.626215   -0.62116033 -0.61687936\n",
      " -0.6132142  -0.6100389  -0.6072544  -0.6047836  -0.60256683 -0.60055796] -1.1167143252241287 -0.4033264393496778 -0.6005579550476399\n"
     ]
    },
    {
     "data": {
      "text/plain": [
       "[<matplotlib.lines.Line2D at 0x1be28639310>]"
      ]
     },
     "execution_count": 13,
     "metadata": {},
     "output_type": "execute_result"
    },
    {
     "data": {
      "image/png": "[encoded data removed]",
      "text/plain": [
       "<Figure size 640x480 with 1 Axes>"
      ]
     },
     "metadata": {},
     "output_type": "display_data"
    }
   ],
   "source": [
    "hf_energies = potential_energy_surface(molecules[\"H2\"][\"symbols\"], molecules[\"H2\"][\"bond lengths\"])\n",
    "\n",
    "print(hf_energies, hf_energies[np.argmin(hf_energies)], hf_energies[np.argmax(hf_energies)], hf_energies[-1])\n",
    "\n",
    "plt.plot(molecules[\"H2\"][\"bond lengths\"], hf_energies)"
   ]
  },
  {
   "cell_type": "code",
   "execution_count": 14,
   "metadata": {},
   "outputs": [
    {
     "name": "stdout",
     "output_type": "stream",
     "text": [
      "[-14.5925228  -14.61081659 -14.62371023 -14.63206845 -14.63678179\n",
      " -14.63864288 -14.63831007 -14.63631185 -14.63306613 -14.62890221\n",
      " -14.62408026 -14.61880686 -14.61324678 -14.60753179 -14.60176725\n",
      " -14.5960372  -14.50544293] -14.638642875212248 -14.505442931370927 -14.505442931370927\n"
     ]
    },
    {
     "data": {
      "text/plain": [
       "[<matplotlib.lines.Line2D at 0x1be27b42e50>]"
      ]
     },
     "execution_count": 14,
     "metadata": {},
     "output_type": "execute_result"
    },
    {
     "data": {
      "image/png": "[encoded data removed]",
      "text/plain": [
       "<Figure size 640x480 with 1 Axes>"
      ]
     },
     "metadata": {},
     "output_type": "display_data"
    }
   ],
   "source": [
    "hf_energies = potential_energy_surface(molecules[\"Li2\"][\"symbols\"], molecules[\"Li2\"][\"bond lengths\"])\n",
    "\n",
    "print(hf_energies, hf_energies[np.argmin(hf_energies)], hf_energies[np.argmax(hf_energies)], hf_energies[-1])\n",
    "\n",
    "plt.plot(molecules[\"Li2\"][\"bond lengths\"], hf_energies)"
   ]
  },
  {
   "cell_type": "code",
   "execution_count": 15,
   "metadata": {},
   "outputs": [
    {
     "name": "stdout",
     "output_type": "stream",
     "text": [
      "[-7.79355424 -7.83906835 -7.85905916 -7.86326723 -7.85754042 -7.84556536\n",
      " -7.82973405 -7.81162431 -7.79229566 -7.77248337 -7.75272534 -7.73343768\n",
      " -7.71495082 -7.69752046 -7.681328   -7.66648211] -7.863267229642519 -7.6664821149010205 -7.6664821149010205\n"
     ]
    },
    {
     "data": {
      "text/plain": [
       "[<matplotlib.lines.Line2D at 0x1be28764050>]"
      ]
     },
     "execution_count": 15,
     "metadata": {},
     "output_type": "execute_result"
    },
    {
     "data": {
      "image/png": "[encoded data removed]",
      "text/plain": [
       "<Figure size 640x480 with 1 Axes>"
      ]
     },
     "metadata": {},
     "output_type": "display_data"
    }
   ],
   "source": [
    "hf_energies = potential_energy_surface(molecules[\"LiH\"][\"symbols\"], molecules[\"LiH\"][\"bond lengths\"])\n",
    "\n",
    "print(hf_energies, hf_energies[np.argmin(hf_energies)], hf_energies[np.argmax(hf_energies)], hf_energies[-1])\n",
    "\n",
    "plt.plot(molecules[\"LiH\"][\"bond lengths\"], hf_energies)"
   ]
  },
  {
   "cell_type": "code",
   "execution_count": 25,
   "metadata": {},
   "outputs": [
    {
     "data": {
      "image/png": "[encoded data removed]",
      "text/plain": [
       "<Figure size 640x480 with 1 Axes>"
      ]
     },
     "metadata": {},
     "output_type": "display_data"
    }
   ],
   "source": [
    "plt.plot(molecules[\"H2\"][\"bond lengths\"], potential_energy_surface(molecules[\"H2\"][\"symbols\"], molecules[\"H2\"][\"bond lengths\"]), label = 'H2')\n",
    "plt.plot(molecules[\"Li2\"][\"bond lengths\"], potential_energy_surface(molecules[\"Li2\"][\"symbols\"], molecules[\"Li2\"][\"bond lengths\"]), label = 'Li2')\n",
    "plt.plot(molecules[\"LiH\"][\"bond lengths\"], 2 * potential_energy_surface(molecules[\"LiH\"][\"symbols\"], molecules[\"LiH\"][\"bond lengths\"]), label = 'LiH')\n",
    "\n",
    "plt.legend()\n",
    "plt.show()"
   ]
  },
  {
   "cell_type": "code",
   "execution_count": 36,
   "metadata": {},
   "outputs": [
    {
     "name": "stdout",
     "output_type": "stream",
     "text": [
      "Running test case 0 with input 'No input'...\n"
     ]
    },
    {
     "ename": "AssertionError",
     "evalue": "Wrong answer!",
     "output_type": "error",
     "traceback": [
      "\u001b[1;31m---------------------------------------------------------------------------\u001b[0m",
      "\u001b[1;31mAssertionError\u001b[0m                            Traceback (most recent call last)",
      "Cell \u001b[1;32mIn[36], line 110\u001b[0m\n\u001b[0;32m    107\u001b[0m     \u001b[38;5;28mprint\u001b[39m(\u001b[38;5;124mf\u001b[39m\u001b[38;5;124m\"\u001b[39m\u001b[38;5;124mRuntime Error. \u001b[39m\u001b[38;5;132;01m{\u001b[39;00mexc\u001b[38;5;132;01m}\u001b[39;00m\u001b[38;5;124m\"\u001b[39m)\n\u001b[0;32m    109\u001b[0m \u001b[38;5;28;01melse\u001b[39;00m:\n\u001b[1;32m--> 110\u001b[0m     \u001b[38;5;28;01mif\u001b[39;00m message \u001b[38;5;241m:=\u001b[39m check(output, expected_output):\n\u001b[0;32m    111\u001b[0m         \u001b[38;5;28mprint\u001b[39m(\u001b[38;5;124mf\u001b[39m\u001b[38;5;124m\"\u001b[39m\u001b[38;5;124mWrong Answer. Have: \u001b[39m\u001b[38;5;124m'\u001b[39m\u001b[38;5;132;01m{\u001b[39;00moutput\u001b[38;5;132;01m}\u001b[39;00m\u001b[38;5;124m'\u001b[39m\u001b[38;5;124m. Want: \u001b[39m\u001b[38;5;124m'\u001b[39m\u001b[38;5;132;01m{\u001b[39;00mexpected_output\u001b[38;5;132;01m}\u001b[39;00m\u001b[38;5;124m'\u001b[39m\u001b[38;5;124m.\u001b[39m\u001b[38;5;124m\"\u001b[39m)\n\u001b[0;32m    113\u001b[0m     \u001b[38;5;28;01melse\u001b[39;00m:\n",
      "Cell \u001b[1;32mIn[36], line 91\u001b[0m, in \u001b[0;36mcheck\u001b[1;34m(have, want)\u001b[0m\n\u001b[0;32m     88\u001b[0m test_circuit()\n\u001b[0;32m     89\u001b[0m \u001b[38;5;28;01massert\u001b[39;00m [op\u001b[38;5;241m.\u001b[39mname \u001b[38;5;28;01mfor\u001b[39;00m op \u001b[38;5;129;01min\u001b[39;00m test_circuit\u001b[38;5;241m.\u001b[39mtape\u001b[38;5;241m.\u001b[39moperations]\u001b[38;5;241m.\u001b[39mcount(\u001b[38;5;124m\"\u001b[39m\u001b[38;5;124mop\u001b[39m\u001b[38;5;124m\"\u001b[39m) \u001b[38;5;241m==\u001b[39m \u001b[38;5;241m1\u001b[39m, \u001b[38;5;124m\"\u001b[39m\u001b[38;5;124mYou can use the oracle once.\u001b[39m\u001b[38;5;124m\"\u001b[39m\n\u001b[1;32m---> 91\u001b[0m \u001b[38;5;28;01massert\u001b[39;00m np\u001b[38;5;241m.\u001b[39misclose(test_circuit()[\u001b[38;5;241m1\u001b[39m], target), \u001b[38;5;124m\"\u001b[39m\u001b[38;5;124mWrong answer!\u001b[39m\u001b[38;5;124m\"\u001b[39m\n",
      "\u001b[1;31mAssertionError\u001b[0m: Wrong answer!"
     ]
    }
   ],
   "source": [
    "import pennylane as qml\n",
    "import pennylane.numpy as np\n",
    "\n",
    "def circuit(oracle):\n",
    "    \"\"\"The circuit to find if the Bitland Kingdom was in danger.\n",
    "    You can query the oracle by calling oracle(wires=[0, 1, 2]).\"\"\"\n",
    "    \n",
    "    qml.Hadamard(0)\n",
    "    qml.Hadamard(1)\n",
    "\n",
    "    oracle(wires = [0, 1, 2])\n",
    "\n",
    "    qml.CNOT(wires = [0, 1])\n",
    "    qml.Hadamard(0)\n",
    "    qml.CNOT(wires = [1, 2])\n",
    "    qml.CNOT(wires = [0, 1])\n",
    "\n",
    "\n",
    "# These functions are responsible for testing the solution.\n",
    "\n",
    "def oracle_maker():\n",
    "    # States order: |0> , |1>, -|0>, -|1>\n",
    "\n",
    "    indx = [[0, 0], [1, 0], [1, 1], [0, 1]]\n",
    "\n",
    "    # Village 00 -> |0>\n",
    "    # Village 10 -> |1>\n",
    "    # Village 11 -> -|0>\n",
    "    # Village 01 -> -|1>\n",
    "\n",
    "    np.random.shuffle(indx)\n",
    "\n",
    "    indices_00 = [index for index, value in enumerate(indx) if value == [0, 0]]\n",
    "    indices_11 = [index for index, value in enumerate(indx) if value == [1, 1]]\n",
    "\n",
    "    if set([indices_00[0], indices_11[0]]) == set([0, 1]) or set([indices_00[0], indices_11[0]]) == set([2, 3]):\n",
    "        target = 0\n",
    "    else:\n",
    "        target = 1\n",
    "\n",
    "    def oracle(wires):\n",
    "\n",
    "        class op(qml.operation.Operation):\n",
    "            num_wires = 3\n",
    "            grad_method = None\n",
    "\n",
    "            def __init__(self, wires, id=None):\n",
    "                super().__init__(wires=wires, id=id)\n",
    "\n",
    "            @property\n",
    "            def num_params(self):\n",
    "                return 0\n",
    "\n",
    "            @staticmethod\n",
    "            def compute_decomposition(wires):\n",
    "                wires_input = wires[:2]\n",
    "                wire_output = wires[2]\n",
    "\n",
    "                ops = []\n",
    "                ops.append(qml.ctrl(qml.PauliX(wires=wire_output), control=wires_input, control_values=indx[1]))\n",
    "\n",
    "                ops.append(\n",
    "                    qml.ctrl(qml.GlobalPhase(np.pi, wires=wire_output), control=wires_input, control_values=indx[2]))\n",
    "\n",
    "                ops.append(qml.ctrl(qml.PauliX(wires=wire_output), control=wires_input, control_values=indx[3]))\n",
    "                ops.append(\n",
    "                    qml.ctrl(qml.GlobalPhase(np.pi, wires=wire_output), control=wires_input, control_values=indx[3]))\n",
    "\n",
    "                return ops\n",
    "\n",
    "        return op(wires=wires)\n",
    "\n",
    "    return oracle, target\n",
    "\n",
    "\n",
    "def run(case: str) -> str:\n",
    "    return \"No output\"\n",
    "\n",
    "\n",
    "def check(have: str, want: str) -> None:\n",
    "    for _ in range(100):\n",
    "        oracle, target = oracle_maker()\n",
    "\n",
    "        dev = qml.device(\"default.qubit\", wires=3)\n",
    "\n",
    "        @qml.qnode(dev)\n",
    "        def test_circuit():\n",
    "            circuit(oracle)\n",
    "            return qml.probs(wires=2)\n",
    "\n",
    "        test_circuit()\n",
    "        assert [op.name for op in test_circuit.tape.operations].count(\"op\") == 1, \"You can use the oracle once.\"\n",
    "\n",
    "        assert np.isclose(test_circuit()[1], target), \"Wrong answer!\"\n",
    "\n",
    "\n",
    "# These are the public test cases\n",
    "test_cases = [\n",
    "    ('No input', 'No output')\n",
    "]\n",
    "\n",
    "# This will run the public test cases locally\n",
    "for i, (input_, expected_output) in enumerate(test_cases):\n",
    "    print(f\"Running test case {i} with input '{input_}'...\")\n",
    "\n",
    "    try:\n",
    "        output = run(input_)\n",
    "\n",
    "    except Exception as exc:\n",
    "        print(f\"Runtime Error. {exc}\")\n",
    "\n",
    "    else:\n",
    "        if message := check(output, expected_output):\n",
    "            print(f\"Wrong Answer. Have: '{output}'. Want: '{expected_output}'.\")\n",
    "\n",
    "        else:\n",
    "            print(\"Correct!\")"
   ]
  },
  {
   "cell_type": "code",
   "execution_count": 35,
   "metadata": {},
   "outputs": [
    {
     "name": "stdout",
     "output_type": "stream",
     "text": [
      "0: ───┤  <Z>\n"
     ]
    }
   ],
   "source": [
    "dev = qml.device(\"default.qubit\")\n",
    "\n",
    "@qml.qnode(dev)\n",
    "def circuit():\n",
    "    return qml.expval(qml.PauliZ(0)@qml.PauliZ(1))\n",
    "\n",
    "print(qml.draw(circuit)())"
   ]
  },
  {
   "cell_type": "code",
   "execution_count": 39,
   "metadata": {},
   "outputs": [
    {
     "data": {
      "text/plain": [
       "tensor([[1., 0.],\n",
       "        [0., 1.]], requires_grad=True)"
      ]
     },
     "execution_count": 39,
     "metadata": {},
     "output_type": "execute_result"
    }
   ],
   "source": [
    "np.eye(2)"
   ]
  },
  {
   "cell_type": "code",
   "execution_count": 40,
   "metadata": {},
   "outputs": [
    {
     "name": "stdout",
     "output_type": "stream",
     "text": [
      "[[ 0.0625  0.0625  0.0625 ...  0.0625  0.0625  0.0625]\n",
      " [ 0.0625 -0.0625  0.0625 ... -0.0625  0.0625 -0.0625]\n",
      " [ 0.0625  0.0625 -0.0625 ...  0.0625 -0.0625 -0.0625]\n",
      " ...\n",
      " [ 0.0625 -0.0625  0.0625 ... -0.0625  0.0625 -0.0625]\n",
      " [ 0.0625  0.0625 -0.0625 ...  0.0625 -0.0625 -0.0625]\n",
      " [ 0.0625 -0.0625 -0.0625 ... -0.0625 -0.0625  0.0625]]\n"
     ]
    }
   ],
   "source": [
    "H = 1/np.sqrt(2) * np.array([[1, 1], [1, -1]])\n",
    "\n",
    "# 8개 큐비트에 각각 Hadamard 게이트를 적용한 행렬 생성\n",
    "U_1qubit = np.kron(H, np.eye(2))\n",
    "U_2qubit = np.kron(H, H)\n",
    "U_3qubit = np.kron(H, np.kron(H, H))\n",
    "U_4qubit = np.kron(H, np.kron(H, np.kron(H, H)))\n",
    "\n",
    "# 모든 큐비트에 적용한 유니터리 행렬\n",
    "U = np.kron(U_4qubit, U_4qubit)\n",
    "\n",
    "print(U)"
   ]
  }
 ],
 "metadata": {
  "kernelspec": {
   "display_name": "base",
   "language": "python",
   "name": "python3"
  },
  "language_info": {
   "codemirror_mode": {
    "name": "ipython",
    "version": 3
   },
   "file_extension": ".py",
   "mimetype": "text/x-python",
   "name": "python",
   "nbconvert_exporter": "python",
   "pygments_lexer": "ipython3",
   "version": "3.11.5"
  }
 },
 "nbformat": 4,
 "nbformat_minor": 2
}
